{
 "cells": [
  {
   "cell_type": "code",
   "execution_count": 1,
   "metadata": {},
   "outputs": [],
   "source": [
    "\"\"\"1. Zaimportuj moduł pandas i numpy nadaj im standardowe aliasy\"\"\"\n",
    "\n",
    "import pandas as pd\n",
    "import numpy as np"
   ]
  },
  {
   "cell_type": "code",
   "execution_count": 2,
   "metadata": {},
   "outputs": [
    {
     "data": {
      "text/html": [
       "<div>\n",
       "<style scoped>\n",
       "    .dataframe tbody tr th:only-of-type {\n",
       "        vertical-align: middle;\n",
       "    }\n",
       "\n",
       "    .dataframe tbody tr th {\n",
       "        vertical-align: top;\n",
       "    }\n",
       "\n",
       "    .dataframe thead th {\n",
       "        text-align: right;\n",
       "    }\n",
       "</style>\n",
       "<table border=\"1\" class=\"dataframe\">\n",
       "  <thead>\n",
       "    <tr style=\"text-align: right;\">\n",
       "      <th></th>\n",
       "      <th>Category</th>\n",
       "      <th>Item</th>\n",
       "      <th>Calories</th>\n",
       "      <th>TotalFat</th>\n",
       "    </tr>\n",
       "  </thead>\n",
       "  <tbody>\n",
       "    <tr>\n",
       "      <td>0</td>\n",
       "      <td>Breakfast</td>\n",
       "      <td>Egg McMuffin</td>\n",
       "      <td>300</td>\n",
       "      <td>13.0</td>\n",
       "    </tr>\n",
       "    <tr>\n",
       "      <td>1</td>\n",
       "      <td>Breakfast</td>\n",
       "      <td>Egg White Delight</td>\n",
       "      <td>250</td>\n",
       "      <td>8.0</td>\n",
       "    </tr>\n",
       "    <tr>\n",
       "      <td>2</td>\n",
       "      <td>Breakfast</td>\n",
       "      <td>Sausage McMuffin</td>\n",
       "      <td>370</td>\n",
       "      <td>23.0</td>\n",
       "    </tr>\n",
       "    <tr>\n",
       "      <td>3</td>\n",
       "      <td>Breakfast</td>\n",
       "      <td>Sausage McMuffin with Egg</td>\n",
       "      <td>450</td>\n",
       "      <td>28.0</td>\n",
       "    </tr>\n",
       "    <tr>\n",
       "      <td>4</td>\n",
       "      <td>Breakfast</td>\n",
       "      <td>Sausage McMuffin with Egg Whites</td>\n",
       "      <td>400</td>\n",
       "      <td>23.0</td>\n",
       "    </tr>\n",
       "  </tbody>\n",
       "</table>\n",
       "</div>"
      ],
      "text/plain": [
       "    Category                              Item  Calories  TotalFat\n",
       "0  Breakfast                      Egg McMuffin       300      13.0\n",
       "1  Breakfast                 Egg White Delight       250       8.0\n",
       "2  Breakfast                  Sausage McMuffin       370      23.0\n",
       "3  Breakfast         Sausage McMuffin with Egg       450      28.0\n",
       "4  Breakfast  Sausage McMuffin with Egg Whites       400      23.0"
      ]
     },
     "execution_count": 2,
     "metadata": {},
     "output_type": "execute_result"
    }
   ],
   "source": [
    "\"\"\"2. Do zmiennej mcdonalds zaimportuj plik mcdonalds.csv, pobierz tylko kolumny Category, Item, Calories i\n",
    "TotalFat\"\"\"\n",
    "\n",
    "mcdonalds = pd.read_csv(\"/Users/kamilw/Desktop/Moje/PythonLearing/Pandas_Udemy/course-files/mcdonalds.csv\",\n",
    "                       usecols=['Category','Item','Calories','TotalFat'])\n",
    "mcdonalds.head()"
   ]
  },
  {
   "cell_type": "code",
   "execution_count": 5,
   "metadata": {},
   "outputs": [],
   "source": [
    "\"\"\"3. W kolejnych krokach wyeksportuj dane znajdujące się w dataframe mcdonalds do pliku csv stosując sie do\n",
    "wymagań:\n",
    "mc-1.csv - nie eksportuj indeksu\n",
    "mc-2.csv - nie eksportuj indeksu, wszystkie teksty umieść w cudzysłowiu\n",
    "mc-3.csv - nie eksportuj indeksu, wszystkie teksty umieść w cudzysłowiu, znakiem rozdzielającym część\n",
    "całkowitą od dziesiętnej ma być przecinek\n",
    "mc-4.csv - nie eksportuj indeksu, wszystkie teksty umieść w cudzysłowiu, znakiem rozdzielającym część\n",
    "całkowitą od dziesiętnej ma być przecinek\n",
    "mc-5.csv - nie eksportuj indeksu, wszystkie teksty umieść w cudzysłowiu, znakiem rozdzielającym część\n",
    "całkowitą od dziesiętnej ma być przecinek, wyeksportować należy tylko kolumny Item i TotalFat\"\"\"\n",
    "\n",
    "# mc-1.csv - nie eksportuj indeksu\n",
    "mcdonalds.to_csv('mc-1.csv',index=False)"
   ]
  },
  {
   "cell_type": "code",
   "execution_count": 6,
   "metadata": {},
   "outputs": [],
   "source": [
    "# mc-2.csv - nie eksportuj indeksu, wszystkie teksty umieść w cudzysłowiu\n",
    "mcdonalds.to_csv('mc-2.csv',index=False, quotechar='\"')"
   ]
  },
  {
   "cell_type": "code",
   "execution_count": 7,
   "metadata": {},
   "outputs": [],
   "source": [
    "# mc-3.csv - nie eksportuj indeksu, wszystkie teksty umieść w cudzysłowiu, znakiem rozdzielającym część\n",
    "# całkowitą od dziesiętnej ma być przecinek\n",
    "mcdonalds.to_csv('mc-3.csv',index=False, quotechar='\"',decimal=',')"
   ]
  },
  {
   "cell_type": "code",
   "execution_count": 8,
   "metadata": {},
   "outputs": [],
   "source": [
    "# mc-4.csv - nie eksportuj indeksu, wszystkie teksty umieść w cudzysłowiu, znakiem rozdzielającym część\n",
    "# całkowitą od dziesiętnej ma być przecinek\n",
    "mcdonalds.to_csv('mc-3.csv',index=False, quotechar='\"',decimal=',',sep=';')"
   ]
  },
  {
   "cell_type": "code",
   "execution_count": 9,
   "metadata": {},
   "outputs": [],
   "source": [
    "# mc-5.csv - nie eksportuj indeksu, wszystkie teksty umieść w cudzysłowiu, znakiem rozdzielającym część\n",
    "# całkowitą od dziesiętnej ma być przecinek, wyeksportować należy tylko kolumny Item i TotalFat\n",
    "mcdonalds.to_csv('mc-3.csv',index=False, quotechar='\"',decimal=',',sep=';',columns=['Item','TotalFat'])"
   ]
  },
  {
   "cell_type": "code",
   "execution_count": 10,
   "metadata": {},
   "outputs": [],
   "source": [
    "\"\"\"4. Do pliku mc-6.json wyeksportuj dane w formacie json\"\"\"\n",
    "\n",
    "mcdonalds.to_json('mc-6.json')"
   ]
  },
  {
   "cell_type": "code",
   "execution_count": 12,
   "metadata": {},
   "outputs": [],
   "source": [
    "\"\"\"5. W zmiennej html zapamiętaj wynik konwersji mcdonalds do postaci html\"\"\"\n",
    "\n",
    "html = mcdonalds.to_html()"
   ]
  },
  {
   "cell_type": "code",
   "execution_count": 15,
   "metadata": {},
   "outputs": [],
   "source": [
    "\"\"\"6. Zaimportuj moduł io. Korzystając z funkcji open utwórz nowy plik tekstowy mc-7.html, z kodowaniem utf-8.\n",
    "Zapisz w tym pliku zawartość zmiennej html. Korzystając z przeglądarki internetowej obejrzyj zawartość\n",
    "utworzonego pliku\"\"\"\n",
    "\n",
    "import io\n",
    "with io.open('mc-7.html', \"w\", encoding=\"utf-8\") as file:\n",
    "    file.write(html)"
   ]
  },
  {
   "cell_type": "code",
   "execution_count": null,
   "metadata": {},
   "outputs": [],
   "source": []
  }
 ],
 "metadata": {
  "kernelspec": {
   "display_name": "Python 3",
   "language": "python",
   "name": "python3"
  },
  "language_info": {
   "codemirror_mode": {
    "name": "ipython",
    "version": 3
   },
   "file_extension": ".py",
   "mimetype": "text/x-python",
   "name": "python",
   "nbconvert_exporter": "python",
   "pygments_lexer": "ipython3",
   "version": "3.7.4"
  }
 },
 "nbformat": 4,
 "nbformat_minor": 2
}
