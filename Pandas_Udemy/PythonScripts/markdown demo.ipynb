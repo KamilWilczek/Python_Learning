{
 "cells": [
  {
   "cell_type": "markdown",
   "metadata": {},
   "source": [
    "# Important Module in Data Analysis with Python\n",
    "## Pandas\n",
    "![Logo Pandas](./pandas_logo.png)\n",
    "pandas is an **open source**, BSD-licensed *library* providing high-performance, easy-to-use data structures and data analysis tools for the Python programming language.\n",
    "[More details](https://pandas.pydata.org/)\n",
    "## Numpy\n",
    "![Logo Numpy](https://numpy.org/_static/numpy_logo.png)\n",
    "NumPy is the fundamental package for __scientific computing__ with _Python_. It contains among other things:\n",
    "1. a powerful N-dimensional array object\n",
    "2. sophisticated (broadcasting) functions\n",
    "3. tools for integrating C/C++ and Fortran code\n",
    "4. useful linear algebra, Fourier transform, and random number capabilities\n",
    "\n",
    "[More details](https://numpy.org/)\n",
    "\n",
    "something\n",
    "- blabla\n",
    "\n",
    "for i in range(10):\n",
    "    print(i)\n",
    "    \n",
    "    for i in range(10):\n",
    "    print(i)\n",
    "    \n",
    "2*2*2\n",
    "\n",
    "2\\*2\\*2\n",
    "\n",
    "znak dolara podwojony pozwala uzywac latexa\n",
    "\n",
    "https://jupyter-notebook.readthedocs.io/en/stable/\n",
    "\n",
    "https://jupyter-notebook.readthedocs.io/en/stable/examples/Notebook/Working%20With%20Markdown%20Cells.html"
   ]
  },
  {
   "cell_type": "markdown",
   "metadata": {},
   "source": [
    "$$e^x=\\sum_{i=0}^\\infty \\frac{1}{i!}x^i$$"
   ]
  },
  {
   "cell_type": "code",
   "execution_count": null,
   "metadata": {},
   "outputs": [],
   "source": []
  }
 ],
 "metadata": {
  "kernelspec": {
   "display_name": "Python 3",
   "language": "python",
   "name": "python3"
  },
  "language_info": {
   "codemirror_mode": {
    "name": "ipython",
    "version": 3
   },
   "file_extension": ".py",
   "mimetype": "text/x-python",
   "name": "python",
   "nbconvert_exporter": "python",
   "pygments_lexer": "ipython3",
   "version": "3.7.4"
  }
 },
 "nbformat": 4,
 "nbformat_minor": 2
}
