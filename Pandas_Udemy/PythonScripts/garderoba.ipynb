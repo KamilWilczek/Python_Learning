{
 "cells": [
  {
   "cell_type": "code",
   "execution_count": 24,
   "metadata": {},
   "outputs": [],
   "source": [
    "biala_koszula = ['flanelowe spodnie','niebieskie chino','jasnoniebieskie jeansy','szara marynarka w jodełkę','granatowa marynarka','bordowa marynarka','ciemne chukka','czekoladowe sztyblety','brązowe brogsy']"
   ]
  },
  {
   "cell_type": "code",
   "execution_count": 25,
   "metadata": {},
   "outputs": [],
   "source": [
    "jasnoniebieskie_jeansy = ['jasna denimowa koszula','granatowa vichy','biala koszula','szara marynarka w jodelke','bordowa marynarka','bezowa marynarka','ciemne chukka','czekoladowe sztyblety','double monki']"
   ]
  },
  {
   "cell_type": "code",
   "execution_count": 26,
   "metadata": {},
   "outputs": [],
   "source": [
    "bordowa_marynarka = ['biala koszula','jasna denimowa koszula','granatowa vichy','flanelowe spodnie','jasnoniebieskie jeansy','bezowe chino','ciemne chukka','czekoladowe sztyblety','brązowe brogsy']"
   ]
  },
  {
   "cell_type": "code",
   "execution_count": null,
   "metadata": {},
   "outputs": [],
   "source": []
  },
  {
   "cell_type": "code",
   "execution_count": 7,
   "metadata": {},
   "outputs": [],
   "source": [
    "def intersection(biala_koszula, jasnoniebieskie_jeansy):\n",
    "    lst3 = [value for value in biala_koszula if value in jasnoniebieskie_jeansy]\n",
    "    return lst3"
   ]
  },
  {
   "cell_type": "code",
   "execution_count": 12,
   "metadata": {},
   "outputs": [
    {
     "name": "stdout",
     "output_type": "stream",
     "text": [
      "['bordowa marynarka', 'ciemne chukka', 'czekoladowe sztyblety']\n"
     ]
    }
   ],
   "source": [
    "print(intersection(biala_koszula, jasnoniebieskie_jeansy))"
   ]
  },
  {
   "cell_type": "code",
   "execution_count": 33,
   "metadata": {},
   "outputs": [
    {
     "name": "stdout",
     "output_type": "stream",
     "text": [
      "W co chcesz sie ubrac? biala koszula\n",
      "proponuje:  ['flanelowe spodnie', 'niebieskie chino', 'jasnoniebieskie jeansy', 'szara marynarka w jodełkę', 'granatowa marynarka', 'bordowa marynarka', 'ciemne chukka', 'czekoladowe sztyblety', 'brązowe brogsy']\n",
      "Co wybierasz? jasnoniebieskie jeansy\n",
      "proponuje:  ['bordowa marynarka', 'ciemne chukka', 'czekoladowe sztyblety']\n",
      "Co teraz? bordowa marynarka\n",
      "proponuje:  ['ciemne chukka', 'czekoladowe sztyblety']\n"
     ]
    }
   ],
   "source": [
    "coChceZalozyc = input('W co chcesz sie ubrac? ')\n",
    "inter = 0\n",
    "\n",
    "# pierwszy element wybrany do zalozenia\n",
    "\n",
    "if coChceZalozyc == 'biala koszula':\n",
    "    print('proponuje: ',biala_koszula)\n",
    "    coChceZalozyc2 = input('Co wybierasz? ')\n",
    "    \n",
    "    # drugi element wybrany do zalozenia\n",
    "    \n",
    "    if coChceZalozyc2 == 'jasnoniebieskie jeansy':\n",
    "        inter = intersection(biala_koszula, jasnoniebieskie_jeansy)\n",
    "        print('proponuje: ', inter)\n",
    "        coChceZalozyc3 = input('Co teraz? ')\n",
    "        \n",
    "        # trzeci element do zalozenia\n",
    "        \n",
    "        if coChceZalozyc3 == 'bordowa marynarka':\n",
    "            inter = intersection(inter, bordowa_marynarka)\n",
    "            print('proponuje: ',inter)\n",
    "            \n",
    "    elif coChceZalozyc2 == 'bordowa marynarka':\n",
    "        inter = intersection(biala_koszula, bordowa_marynarka)\n",
    "        print('proponuje: ', inter)\n",
    "    else:\n",
    "        print('nara')\n",
    "        \n",
    "        \n",
    "elif coChceZalozyc == 'bordowa marynarka':\n",
    "    print('Proponuje: ',bordowa_marynarka)\n",
    "    \n",
    "    # drugi element wybrany do zalozenia\n",
    "    \n",
    "    coChceZalozyc2 = input('Co wybierasz? ')\n",
    "    if coChceZalozyc2 == 'jasnoniebieskie jeansy':\n",
    "        inter = intersection(bordowa_marynarka, jasnoniebieskie_jeansy)\n",
    "        print('proponuje: ', inter)\n",
    "    elif coChceZalozyc2 == 'biala koszula':\n",
    "        inter = intersection(bordowa_marynarka, biala_koszula)\n",
    "        print('proponuje: ', inter)\n",
    "    else:\n",
    "        print('nara')\n",
    "        \n",
    "        \n",
    "else:\n",
    "    print('dupa')\n",
    "\n"
   ]
  },
  {
   "cell_type": "code",
   "execution_count": 28,
   "metadata": {},
   "outputs": [
    {
     "data": {
      "text/plain": [
       "['biala koszula']"
      ]
     },
     "execution_count": 28,
     "metadata": {},
     "output_type": "execute_result"
    }
   ],
   "source": [
    "coChceZalozyc.split('_')"
   ]
  },
  {
   "cell_type": "code",
   "execution_count": null,
   "metadata": {},
   "outputs": [],
   "source": []
  }
 ],
 "metadata": {
  "kernelspec": {
   "display_name": "Python 3",
   "language": "python",
   "name": "python3"
  },
  "language_info": {
   "codemirror_mode": {
    "name": "ipython",
    "version": 3
   },
   "file_extension": ".py",
   "mimetype": "text/x-python",
   "name": "python",
   "nbconvert_exporter": "python",
   "pygments_lexer": "ipython3",
   "version": "3.7.4"
  }
 },
 "nbformat": 4,
 "nbformat_minor": 2
}
