{
 "cells": [
  {
   "cell_type": "code",
   "execution_count": 2,
   "metadata": {},
   "outputs": [
    {
     "data": {
      "text/html": [
       "<div>\n",
       "<style scoped>\n",
       "    .dataframe tbody tr th:only-of-type {\n",
       "        vertical-align: middle;\n",
       "    }\n",
       "\n",
       "    .dataframe tbody tr th {\n",
       "        vertical-align: top;\n",
       "    }\n",
       "\n",
       "    .dataframe thead th {\n",
       "        text-align: right;\n",
       "    }\n",
       "</style>\n",
       "<table border=\"1\" class=\"dataframe\">\n",
       "  <thead>\n",
       "    <tr style=\"text-align: right;\">\n",
       "      <th></th>\n",
       "      <th></th>\n",
       "      <th></th>\n",
       "      <th>Range (FT1)</th>\n",
       "      <th>City Range (FT1)</th>\n",
       "    </tr>\n",
       "    <tr>\n",
       "      <th>Year</th>\n",
       "      <th>Make</th>\n",
       "      <th>Model</th>\n",
       "      <th></th>\n",
       "      <th></th>\n",
       "    </tr>\n",
       "  </thead>\n",
       "  <tbody>\n",
       "    <tr>\n",
       "      <td rowspan=\"5\" valign=\"top\">1984</td>\n",
       "      <td rowspan=\"4\" valign=\"top\">AM General</td>\n",
       "      <td>DJ Po Vehicle 2WD</td>\n",
       "      <td>0.0</td>\n",
       "      <td>0.0</td>\n",
       "    </tr>\n",
       "    <tr>\n",
       "      <td>DJ Po Vehicle 2WD</td>\n",
       "      <td>0.0</td>\n",
       "      <td>0.0</td>\n",
       "    </tr>\n",
       "    <tr>\n",
       "      <td>FJ8c Post Office</td>\n",
       "      <td>0.0</td>\n",
       "      <td>0.0</td>\n",
       "    </tr>\n",
       "    <tr>\n",
       "      <td>FJ8c Post Office</td>\n",
       "      <td>0.0</td>\n",
       "      <td>0.0</td>\n",
       "    </tr>\n",
       "    <tr>\n",
       "      <td>Alfa Romeo</td>\n",
       "      <td>GT V6 2.5</td>\n",
       "      <td>0.0</td>\n",
       "      <td>0.0</td>\n",
       "    </tr>\n",
       "  </tbody>\n",
       "</table>\n",
       "</div>"
      ],
      "text/plain": [
       "                                   Range (FT1)  City Range (FT1)\n",
       "Year Make       Model                                           \n",
       "1984 AM General DJ Po Vehicle 2WD          0.0               0.0\n",
       "                DJ Po Vehicle 2WD          0.0               0.0\n",
       "                FJ8c Post Office           0.0               0.0\n",
       "                FJ8c Post Office           0.0               0.0\n",
       "     Alfa Romeo GT V6 2.5                  0.0               0.0"
      ]
     },
     "execution_count": 2,
     "metadata": {},
     "output_type": "execute_result"
    }
   ],
   "source": [
    "\"\"\"1. Zaimportuj moduł pandas i numpy, nadaj im standardowe aliasy. Do zmiennej fuel wczytaj zawartość pliku\n",
    "fuel.csv. Pobierz następujące kolumny: 'Year','Make','Model','Range (FT1)','City Range (FT1)'. Zdefiniuj\n",
    "multiindex w oparciu o kolumny 'Year','Make','Model', posortuj dane wg indeksu i wświetl nagłówek obiektu\n",
    "data frame.\"\"\"\n",
    "\n",
    "import pandas as pd\n",
    "import numpy as np\n",
    "fuel = pd.read_csv('/Users/kamilw/Desktop/Moje/PythonLearing/Pandas_Udemy/course-files/fuel.csv',\n",
    "                  usecols=['Year','Make','Model','Range (FT1)','City Range (FT1)'])\n",
    "fuel.set_index(['Year','Make','Model'],inplace=True)\n",
    "fuel.sort_index(inplace=True)\n",
    "fuel.head()"
   ]
  },
  {
   "cell_type": "code",
   "execution_count": 11,
   "metadata": {},
   "outputs": [
    {
     "data": {
      "text/html": [
       "<div>\n",
       "<style scoped>\n",
       "    .dataframe tbody tr th:only-of-type {\n",
       "        vertical-align: middle;\n",
       "    }\n",
       "\n",
       "    .dataframe tbody tr th {\n",
       "        vertical-align: top;\n",
       "    }\n",
       "\n",
       "    .dataframe thead th {\n",
       "        text-align: right;\n",
       "    }\n",
       "</style>\n",
       "<table border=\"1\" class=\"dataframe\">\n",
       "  <thead>\n",
       "    <tr style=\"text-align: right;\">\n",
       "      <th></th>\n",
       "      <th></th>\n",
       "      <th>Range (FT1)</th>\n",
       "      <th>City Range (FT1)</th>\n",
       "    </tr>\n",
       "    <tr>\n",
       "      <th>Make</th>\n",
       "      <th>Model</th>\n",
       "      <th></th>\n",
       "      <th></th>\n",
       "    </tr>\n",
       "  </thead>\n",
       "  <tbody>\n",
       "    <tr>\n",
       "      <td rowspan=\"4\" valign=\"top\">AM General</td>\n",
       "      <td>DJ Po Vehicle 2WD</td>\n",
       "      <td>0.0</td>\n",
       "      <td>0.0</td>\n",
       "    </tr>\n",
       "    <tr>\n",
       "      <td>DJ Po Vehicle 2WD</td>\n",
       "      <td>0.0</td>\n",
       "      <td>0.0</td>\n",
       "    </tr>\n",
       "    <tr>\n",
       "      <td>FJ8c Post Office</td>\n",
       "      <td>0.0</td>\n",
       "      <td>0.0</td>\n",
       "    </tr>\n",
       "    <tr>\n",
       "      <td>FJ8c Post Office</td>\n",
       "      <td>0.0</td>\n",
       "      <td>0.0</td>\n",
       "    </tr>\n",
       "    <tr>\n",
       "      <td rowspan=\"4\" valign=\"top\">Alfa Romeo</td>\n",
       "      <td>GT V6 2.5</td>\n",
       "      <td>0.0</td>\n",
       "      <td>0.0</td>\n",
       "    </tr>\n",
       "    <tr>\n",
       "      <td>GT V6 2.5</td>\n",
       "      <td>0.0</td>\n",
       "      <td>0.0</td>\n",
       "    </tr>\n",
       "    <tr>\n",
       "      <td>Spider Veloce 2000</td>\n",
       "      <td>0.0</td>\n",
       "      <td>0.0</td>\n",
       "    </tr>\n",
       "    <tr>\n",
       "      <td>Spider Veloce 2000</td>\n",
       "      <td>0.0</td>\n",
       "      <td>0.0</td>\n",
       "    </tr>\n",
       "    <tr>\n",
       "      <td rowspan=\"2\" valign=\"top\">American Motors Corporation</td>\n",
       "      <td>Eagle 4WD</td>\n",
       "      <td>0.0</td>\n",
       "      <td>0.0</td>\n",
       "    </tr>\n",
       "    <tr>\n",
       "      <td>Eagle 4WD</td>\n",
       "      <td>0.0</td>\n",
       "      <td>0.0</td>\n",
       "    </tr>\n",
       "  </tbody>\n",
       "</table>\n",
       "</div>"
      ],
      "text/plain": [
       "                                                Range (FT1)  City Range (FT1)\n",
       "Make                        Model                                            \n",
       "AM General                  DJ Po Vehicle 2WD           0.0               0.0\n",
       "                            DJ Po Vehicle 2WD           0.0               0.0\n",
       "                            FJ8c Post Office            0.0               0.0\n",
       "                            FJ8c Post Office            0.0               0.0\n",
       "Alfa Romeo                  GT V6 2.5                   0.0               0.0\n",
       "                            GT V6 2.5                   0.0               0.0\n",
       "                            Spider Veloce 2000          0.0               0.0\n",
       "                            Spider Veloce 2000          0.0               0.0\n",
       "American Motors Corporation Eagle 4WD                   0.0               0.0\n",
       "                            Eagle 4WD                   0.0               0.0"
      ]
     },
     "execution_count": 11,
     "metadata": {},
     "output_type": "execute_result"
    }
   ],
   "source": [
    "\"\"\"2. Wyświetl te wiersze, które:\n",
    "- mają w pierwszym członie indeksu 'Year' wartość 1984\n",
    "- mają w dwóch pierwszych członach indeksu 'Year','Make' wartość (1984,'Alfa Romeo')\n",
    "- mają w indeksie wartość (1984,'Alfa Romeo','Spider Veloce 2000')\n",
    "- mają w indeksie (1984,'Alfa Romeo','Spider Veloce 2000') w kolumnie 'Range (FT1)'\"\"\"\n",
    "\n",
    "#- mają w pierwszym członie indeksu 'Year' wartość 1984\n",
    "fuel.loc[(1984)].head(10)"
   ]
  },
  {
   "cell_type": "code",
   "execution_count": 12,
   "metadata": {},
   "outputs": [
    {
     "data": {
      "text/html": [
       "<div>\n",
       "<style scoped>\n",
       "    .dataframe tbody tr th:only-of-type {\n",
       "        vertical-align: middle;\n",
       "    }\n",
       "\n",
       "    .dataframe tbody tr th {\n",
       "        vertical-align: top;\n",
       "    }\n",
       "\n",
       "    .dataframe thead th {\n",
       "        text-align: right;\n",
       "    }\n",
       "</style>\n",
       "<table border=\"1\" class=\"dataframe\">\n",
       "  <thead>\n",
       "    <tr style=\"text-align: right;\">\n",
       "      <th></th>\n",
       "      <th>Range (FT1)</th>\n",
       "      <th>City Range (FT1)</th>\n",
       "    </tr>\n",
       "    <tr>\n",
       "      <th>Model</th>\n",
       "      <th></th>\n",
       "      <th></th>\n",
       "    </tr>\n",
       "  </thead>\n",
       "  <tbody>\n",
       "    <tr>\n",
       "      <td>GT V6 2.5</td>\n",
       "      <td>0.0</td>\n",
       "      <td>0.0</td>\n",
       "    </tr>\n",
       "    <tr>\n",
       "      <td>GT V6 2.5</td>\n",
       "      <td>0.0</td>\n",
       "      <td>0.0</td>\n",
       "    </tr>\n",
       "    <tr>\n",
       "      <td>Spider Veloce 2000</td>\n",
       "      <td>0.0</td>\n",
       "      <td>0.0</td>\n",
       "    </tr>\n",
       "    <tr>\n",
       "      <td>Spider Veloce 2000</td>\n",
       "      <td>0.0</td>\n",
       "      <td>0.0</td>\n",
       "    </tr>\n",
       "  </tbody>\n",
       "</table>\n",
       "</div>"
      ],
      "text/plain": [
       "                    Range (FT1)  City Range (FT1)\n",
       "Model                                            \n",
       "GT V6 2.5                   0.0               0.0\n",
       "GT V6 2.5                   0.0               0.0\n",
       "Spider Veloce 2000          0.0               0.0\n",
       "Spider Veloce 2000          0.0               0.0"
      ]
     },
     "execution_count": 12,
     "metadata": {},
     "output_type": "execute_result"
    }
   ],
   "source": [
    "# - mają w dwóch pierwszych członach indeksu 'Year','Make' wartość (1984,'Alfa Romeo')\n",
    "fuel.loc[(1984,'Alfa Romeo')]"
   ]
  },
  {
   "cell_type": "code",
   "execution_count": 13,
   "metadata": {},
   "outputs": [
    {
     "data": {
      "text/html": [
       "<div>\n",
       "<style scoped>\n",
       "    .dataframe tbody tr th:only-of-type {\n",
       "        vertical-align: middle;\n",
       "    }\n",
       "\n",
       "    .dataframe tbody tr th {\n",
       "        vertical-align: top;\n",
       "    }\n",
       "\n",
       "    .dataframe thead th {\n",
       "        text-align: right;\n",
       "    }\n",
       "</style>\n",
       "<table border=\"1\" class=\"dataframe\">\n",
       "  <thead>\n",
       "    <tr style=\"text-align: right;\">\n",
       "      <th></th>\n",
       "      <th></th>\n",
       "      <th></th>\n",
       "      <th>Range (FT1)</th>\n",
       "      <th>City Range (FT1)</th>\n",
       "    </tr>\n",
       "    <tr>\n",
       "      <th>Year</th>\n",
       "      <th>Make</th>\n",
       "      <th>Model</th>\n",
       "      <th></th>\n",
       "      <th></th>\n",
       "    </tr>\n",
       "  </thead>\n",
       "  <tbody>\n",
       "    <tr>\n",
       "      <td rowspan=\"2\" valign=\"top\">1984</td>\n",
       "      <td rowspan=\"2\" valign=\"top\">Alfa Romeo</td>\n",
       "      <td>Spider Veloce 2000</td>\n",
       "      <td>0.0</td>\n",
       "      <td>0.0</td>\n",
       "    </tr>\n",
       "    <tr>\n",
       "      <td>Spider Veloce 2000</td>\n",
       "      <td>0.0</td>\n",
       "      <td>0.0</td>\n",
       "    </tr>\n",
       "  </tbody>\n",
       "</table>\n",
       "</div>"
      ],
      "text/plain": [
       "                                    Range (FT1)  City Range (FT1)\n",
       "Year Make       Model                                            \n",
       "1984 Alfa Romeo Spider Veloce 2000          0.0               0.0\n",
       "                Spider Veloce 2000          0.0               0.0"
      ]
     },
     "execution_count": 13,
     "metadata": {},
     "output_type": "execute_result"
    }
   ],
   "source": [
    "# - mają w indeksie wartość (1984,'Alfa Romeo','Spider Veloce 2000')\n",
    "fuel.loc[(1984,'Alfa Romeo','Spider Veloce 2000')]"
   ]
  },
  {
   "cell_type": "code",
   "execution_count": 14,
   "metadata": {},
   "outputs": [
    {
     "data": {
      "text/plain": [
       "Year  Make        Model             \n",
       "1984  Alfa Romeo  Spider Veloce 2000    0.0\n",
       "                  Spider Veloce 2000    0.0\n",
       "Name: Range (FT1), dtype: float64"
      ]
     },
     "execution_count": 14,
     "metadata": {},
     "output_type": "execute_result"
    }
   ],
   "source": [
    "# - mają w indeksie (1984,'Alfa Romeo','Spider Veloce 2000') w kolumnie 'Range (FT1)'\"\"\"\n",
    "fuel.loc[(1984,'Alfa Romeo','Spider Veloce 2000'),'Range (FT1)']"
   ]
  },
  {
   "cell_type": "code",
   "execution_count": 16,
   "metadata": {},
   "outputs": [],
   "source": [
    "\"\"\"4. Zapisz w zmiennej fuel wynik transpozycji obiektu fuel\"\"\"\n",
    "fuel = fuel.transpose()"
   ]
  },
  {
   "cell_type": "code",
   "execution_count": 17,
   "metadata": {},
   "outputs": [
    {
     "data": {
      "text/html": [
       "<div>\n",
       "<style scoped>\n",
       "    .dataframe tbody tr th:only-of-type {\n",
       "        vertical-align: middle;\n",
       "    }\n",
       "\n",
       "    .dataframe tbody tr th {\n",
       "        vertical-align: top;\n",
       "    }\n",
       "\n",
       "    .dataframe thead tr th {\n",
       "        text-align: left;\n",
       "    }\n",
       "</style>\n",
       "<table border=\"1\" class=\"dataframe\">\n",
       "  <thead>\n",
       "    <tr>\n",
       "      <th>Year</th>\n",
       "      <th colspan=\"10\" halign=\"left\">1984</th>\n",
       "      <th>...</th>\n",
       "      <th colspan=\"10\" halign=\"left\">2012</th>\n",
       "    </tr>\n",
       "    <tr>\n",
       "      <th>Make</th>\n",
       "      <th colspan=\"4\" halign=\"left\">AM General</th>\n",
       "      <th colspan=\"4\" halign=\"left\">Alfa Romeo</th>\n",
       "      <th colspan=\"2\" halign=\"left\">American Motors Corporation</th>\n",
       "      <th>...</th>\n",
       "      <th colspan=\"10\" halign=\"left\">Mitsubishi</th>\n",
       "    </tr>\n",
       "    <tr>\n",
       "      <th>Model</th>\n",
       "      <th>DJ Po Vehicle 2WD</th>\n",
       "      <th>DJ Po Vehicle 2WD</th>\n",
       "      <th>FJ8c Post Office</th>\n",
       "      <th>FJ8c Post Office</th>\n",
       "      <th>GT V6 2.5</th>\n",
       "      <th>GT V6 2.5</th>\n",
       "      <th>Spider Veloce 2000</th>\n",
       "      <th>Spider Veloce 2000</th>\n",
       "      <th>Eagle 4WD</th>\n",
       "      <th>Eagle 4WD</th>\n",
       "      <th>...</th>\n",
       "      <th>Galant</th>\n",
       "      <th>Lancer</th>\n",
       "      <th>Lancer</th>\n",
       "      <th>Lancer</th>\n",
       "      <th>Lancer</th>\n",
       "      <th>Lancer</th>\n",
       "      <th>Lancer AWD</th>\n",
       "      <th>Lancer Evolution</th>\n",
       "      <th>Lancer Evolution</th>\n",
       "      <th>i-MiEV</th>\n",
       "    </tr>\n",
       "  </thead>\n",
       "  <tbody>\n",
       "    <tr>\n",
       "      <td>Range (FT1)</td>\n",
       "      <td>0.0</td>\n",
       "      <td>0.0</td>\n",
       "      <td>0.0</td>\n",
       "      <td>0.0</td>\n",
       "      <td>0.0</td>\n",
       "      <td>0.0</td>\n",
       "      <td>0.0</td>\n",
       "      <td>0.0</td>\n",
       "      <td>0.0</td>\n",
       "      <td>0.0</td>\n",
       "      <td>...</td>\n",
       "      <td>0.0</td>\n",
       "      <td>0.0</td>\n",
       "      <td>0.0</td>\n",
       "      <td>0.0</td>\n",
       "      <td>0.0</td>\n",
       "      <td>0.0</td>\n",
       "      <td>0.0</td>\n",
       "      <td>0.0</td>\n",
       "      <td>0.0</td>\n",
       "      <td>62.0000</td>\n",
       "    </tr>\n",
       "    <tr>\n",
       "      <td>City Range (FT1)</td>\n",
       "      <td>0.0</td>\n",
       "      <td>0.0</td>\n",
       "      <td>0.0</td>\n",
       "      <td>0.0</td>\n",
       "      <td>0.0</td>\n",
       "      <td>0.0</td>\n",
       "      <td>0.0</td>\n",
       "      <td>0.0</td>\n",
       "      <td>0.0</td>\n",
       "      <td>0.0</td>\n",
       "      <td>...</td>\n",
       "      <td>0.0</td>\n",
       "      <td>0.0</td>\n",
       "      <td>0.0</td>\n",
       "      <td>0.0</td>\n",
       "      <td>0.0</td>\n",
       "      <td>0.0</td>\n",
       "      <td>0.0</td>\n",
       "      <td>0.0</td>\n",
       "      <td>0.0</td>\n",
       "      <td>68.5545</td>\n",
       "    </tr>\n",
       "  </tbody>\n",
       "</table>\n",
       "<p>2 rows × 31684 columns</p>\n",
       "</div>"
      ],
      "text/plain": [
       "Year                          1984                                     \\\n",
       "Make                    AM General                                      \n",
       "Model            DJ Po Vehicle 2WD DJ Po Vehicle 2WD FJ8c Post Office   \n",
       "Range (FT1)                    0.0               0.0              0.0   \n",
       "City Range (FT1)               0.0               0.0              0.0   \n",
       "\n",
       "Year                                                                       \\\n",
       "Make                              Alfa Romeo                                \n",
       "Model            FJ8c Post Office  GT V6 2.5 GT V6 2.5 Spider Veloce 2000   \n",
       "Range (FT1)                   0.0        0.0       0.0                0.0   \n",
       "City Range (FT1)              0.0        0.0       0.0                0.0   \n",
       "\n",
       "Year                                                                       \\\n",
       "Make                                American Motors Corporation             \n",
       "Model            Spider Veloce 2000                   Eagle 4WD Eagle 4WD   \n",
       "Range (FT1)                     0.0                         0.0       0.0   \n",
       "City Range (FT1)                0.0                         0.0       0.0   \n",
       "\n",
       "Year              ...       2012                                     \\\n",
       "Make              ... Mitsubishi                                      \n",
       "Model             ...     Galant Lancer Lancer Lancer Lancer Lancer   \n",
       "Range (FT1)       ...        0.0    0.0    0.0    0.0    0.0    0.0   \n",
       "City Range (FT1)  ...        0.0    0.0    0.0    0.0    0.0    0.0   \n",
       "\n",
       "Year                                                                    \n",
       "Make                                                                    \n",
       "Model            Lancer AWD Lancer Evolution Lancer Evolution   i-MiEV  \n",
       "Range (FT1)             0.0              0.0              0.0  62.0000  \n",
       "City Range (FT1)        0.0              0.0              0.0  68.5545  \n",
       "\n",
       "[2 rows x 31684 columns]"
      ]
     },
     "execution_count": 17,
     "metadata": {},
     "output_type": "execute_result"
    }
   ],
   "source": [
    "fuel.head()"
   ]
  },
  {
   "cell_type": "code",
   "execution_count": 18,
   "metadata": {},
   "outputs": [
    {
     "data": {
      "text/plain": [
       "Year  Make        Model            \n",
       "1984  AM General  DJ Po Vehicle 2WD     0.0\n",
       "                  DJ Po Vehicle 2WD     0.0\n",
       "                  FJ8c Post Office      0.0\n",
       "                  FJ8c Post Office      0.0\n",
       "      Alfa Romeo  GT V6 2.5             0.0\n",
       "                                       ... \n",
       "2012  Mitsubishi  Lancer                0.0\n",
       "                  Lancer AWD            0.0\n",
       "                  Lancer Evolution      0.0\n",
       "                  Lancer Evolution      0.0\n",
       "                  i-MiEV               62.0\n",
       "Name: Range (FT1), Length: 31684, dtype: float64"
      ]
     },
     "execution_count": 18,
     "metadata": {},
     "output_type": "execute_result"
    }
   ],
   "source": [
    "\"\"\"5. Wyświetl te wiersze, które\n",
    "- mają w indeksie wartość 'Range (FT1)'\n",
    "- mają w indeksie wartość 'Range (FT1)', a w kolumnie w pierwszym członie wartość 1984\n",
    "- mają w indeksie wartość 'Range (FT1)', a w kolumnie w pierwszych dwóch członach wartość (1984,'Alfa\n",
    "Romeo')\n",
    "- mają w indeksie wartość 'Range (FT1)', a w kolumnie wartość (1984,'Alfa Romeo','Spider Veloce 2000')\"\"\"\n",
    "\n",
    "# - mają w indeksie wartość 'Range (FT1)'\n",
    "fuel.loc['Range (FT1)']"
   ]
  },
  {
   "cell_type": "code",
   "execution_count": 19,
   "metadata": {},
   "outputs": [
    {
     "data": {
      "text/plain": [
       "Make        Model            \n",
       "AM General  DJ Po Vehicle 2WD    0.0\n",
       "            DJ Po Vehicle 2WD    0.0\n",
       "            FJ8c Post Office     0.0\n",
       "            FJ8c Post Office     0.0\n",
       "Alfa Romeo  GT V6 2.5            0.0\n",
       "                                ... \n",
       "Volvo       760 GLE              0.0\n",
       "            760 GLE              0.0\n",
       "            760 GLE              0.0\n",
       "            760 GLE              0.0\n",
       "            760 GLE              0.0\n",
       "Name: Range (FT1), Length: 1964, dtype: float64"
      ]
     },
     "execution_count": 19,
     "metadata": {},
     "output_type": "execute_result"
    }
   ],
   "source": [
    "# - mają w indeksie wartość 'Range (FT1)', a w kolumnie w pierwszym członie wartość 1984\n",
    "fuel.loc['Range (FT1)',1984]"
   ]
  },
  {
   "cell_type": "code",
   "execution_count": 20,
   "metadata": {},
   "outputs": [
    {
     "data": {
      "text/plain": [
       "Model\n",
       "GT V6 2.5             0.0\n",
       "GT V6 2.5             0.0\n",
       "Spider Veloce 2000    0.0\n",
       "Spider Veloce 2000    0.0\n",
       "Name: Range (FT1), dtype: float64"
      ]
     },
     "execution_count": 20,
     "metadata": {},
     "output_type": "execute_result"
    }
   ],
   "source": [
    "# - mają w indeksie wartość 'Range (FT1)', a w kolumnie w pierwszych dwóch członach wartość (1984,'Alfa Romeo')\n",
    "fuel.loc['Range (FT1)',(1984,'Alfa Romeo')]"
   ]
  },
  {
   "cell_type": "code",
   "execution_count": 21,
   "metadata": {},
   "outputs": [
    {
     "data": {
      "text/plain": [
       "Year  Make        Model             \n",
       "1984  Alfa Romeo  Spider Veloce 2000    0.0\n",
       "                  Spider Veloce 2000    0.0\n",
       "Name: Range (FT1), dtype: float64"
      ]
     },
     "execution_count": 21,
     "metadata": {},
     "output_type": "execute_result"
    }
   ],
   "source": [
    "# - mają w indeksie wartość 'Range (FT1)', a w kolumnie wartość (1984,'Alfa Romeo','Spider Veloce 2000')\n",
    "fuel.loc['Range (FT1)',(1984,'Alfa Romeo','Spider Veloce 2000')]"
   ]
  },
  {
   "cell_type": "code",
   "execution_count": null,
   "metadata": {},
   "outputs": [],
   "source": []
  }
 ],
 "metadata": {
  "kernelspec": {
   "display_name": "Python 3",
   "language": "python",
   "name": "python3"
  },
  "language_info": {
   "codemirror_mode": {
    "name": "ipython",
    "version": 3
   },
   "file_extension": ".py",
   "mimetype": "text/x-python",
   "name": "python",
   "nbconvert_exporter": "python",
   "pygments_lexer": "ipython3",
   "version": "3.7.4"
  }
 },
 "nbformat": 4,
 "nbformat_minor": 2
}
