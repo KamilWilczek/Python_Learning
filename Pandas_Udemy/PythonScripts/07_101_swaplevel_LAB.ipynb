{
 "cells": [
  {
   "cell_type": "code",
   "execution_count": 2,
   "metadata": {},
   "outputs": [
    {
     "data": {
      "text/html": [
       "<div>\n",
       "<style scoped>\n",
       "    .dataframe tbody tr th:only-of-type {\n",
       "        vertical-align: middle;\n",
       "    }\n",
       "\n",
       "    .dataframe tbody tr th {\n",
       "        vertical-align: top;\n",
       "    }\n",
       "\n",
       "    .dataframe thead th {\n",
       "        text-align: right;\n",
       "    }\n",
       "</style>\n",
       "<table border=\"1\" class=\"dataframe\">\n",
       "  <thead>\n",
       "    <tr style=\"text-align: right;\">\n",
       "      <th></th>\n",
       "      <th></th>\n",
       "      <th></th>\n",
       "      <th>Range (FT1)</th>\n",
       "      <th>City Range (FT1)</th>\n",
       "    </tr>\n",
       "    <tr>\n",
       "      <th>Year</th>\n",
       "      <th>Make</th>\n",
       "      <th>Model</th>\n",
       "      <th></th>\n",
       "      <th></th>\n",
       "    </tr>\n",
       "  </thead>\n",
       "  <tbody>\n",
       "    <tr>\n",
       "      <th rowspan=\"5\" valign=\"top\">1984</th>\n",
       "      <th rowspan=\"4\" valign=\"top\">AM General</th>\n",
       "      <th>DJ Po Vehicle 2WD</th>\n",
       "      <td>0.0</td>\n",
       "      <td>0.0</td>\n",
       "    </tr>\n",
       "    <tr>\n",
       "      <th>DJ Po Vehicle 2WD</th>\n",
       "      <td>0.0</td>\n",
       "      <td>0.0</td>\n",
       "    </tr>\n",
       "    <tr>\n",
       "      <th>FJ8c Post Office</th>\n",
       "      <td>0.0</td>\n",
       "      <td>0.0</td>\n",
       "    </tr>\n",
       "    <tr>\n",
       "      <th>FJ8c Post Office</th>\n",
       "      <td>0.0</td>\n",
       "      <td>0.0</td>\n",
       "    </tr>\n",
       "    <tr>\n",
       "      <th>Alfa Romeo</th>\n",
       "      <th>GT V6 2.5</th>\n",
       "      <td>0.0</td>\n",
       "      <td>0.0</td>\n",
       "    </tr>\n",
       "  </tbody>\n",
       "</table>\n",
       "</div>"
      ],
      "text/plain": [
       "                                   Range (FT1)  City Range (FT1)\n",
       "Year Make       Model                                           \n",
       "1984 AM General DJ Po Vehicle 2WD          0.0               0.0\n",
       "                DJ Po Vehicle 2WD          0.0               0.0\n",
       "                FJ8c Post Office           0.0               0.0\n",
       "                FJ8c Post Office           0.0               0.0\n",
       "     Alfa Romeo GT V6 2.5                  0.0               0.0"
      ]
     },
     "execution_count": 2,
     "metadata": {},
     "output_type": "execute_result"
    }
   ],
   "source": [
    "\"\"\"1. Zaimportuj moduł pandas i numpy, nadaj im standardowe aliasy. Do zmiennej fuel wczytaj zawartość pliku\n",
    "fuel.csv. Pobierz następujące kolumny: 'Year','Make','Model','Range (FT1)','City Range (FT1)'. Zdefiniuj\n",
    "multiindex w oparciu o kolumny 'Year','Make','Model', posortuj dane wg indeksu i wświetl nagłówek obiektu\n",
    "data frame\"\"\"\n",
    "\n",
    "import pandas as pd\n",
    "import numpy as np\n",
    "fuel = pd.read_csv(\"D:\\\\Python_Kursy\\\\Python_Udemy\\\\Pandas\\\\course-files\\\\fuel.csv\",\n",
    "                  usecols=['Year','Make','Model','Range (FT1)','City Range (FT1)'])\n",
    "fuel.set_index(['Year','Make','Model'],inplace=True)\n",
    "fuel.sort_index(inplace=True)\n",
    "fuel.head()"
   ]
  },
  {
   "cell_type": "code",
   "execution_count": 7,
   "metadata": {},
   "outputs": [
    {
     "data": {
      "text/html": [
       "<div>\n",
       "<style scoped>\n",
       "    .dataframe tbody tr th:only-of-type {\n",
       "        vertical-align: middle;\n",
       "    }\n",
       "\n",
       "    .dataframe tbody tr th {\n",
       "        vertical-align: top;\n",
       "    }\n",
       "\n",
       "    .dataframe thead th {\n",
       "        text-align: right;\n",
       "    }\n",
       "</style>\n",
       "<table border=\"1\" class=\"dataframe\">\n",
       "  <thead>\n",
       "    <tr style=\"text-align: right;\">\n",
       "      <th></th>\n",
       "      <th></th>\n",
       "      <th></th>\n",
       "      <th>Range (FT1)</th>\n",
       "      <th>City Range (FT1)</th>\n",
       "    </tr>\n",
       "    <tr>\n",
       "      <th>Year</th>\n",
       "      <th>Make</th>\n",
       "      <th>Model</th>\n",
       "      <th></th>\n",
       "      <th></th>\n",
       "    </tr>\n",
       "  </thead>\n",
       "  <tbody>\n",
       "    <tr>\n",
       "      <th rowspan=\"2\" valign=\"top\">1984</th>\n",
       "      <th rowspan=\"2\" valign=\"top\">Alfa Romeo</th>\n",
       "      <th>Spider Veloce 2000</th>\n",
       "      <td>0.0</td>\n",
       "      <td>0.0</td>\n",
       "    </tr>\n",
       "    <tr>\n",
       "      <th>Spider Veloce 2000</th>\n",
       "      <td>0.0</td>\n",
       "      <td>0.0</td>\n",
       "    </tr>\n",
       "  </tbody>\n",
       "</table>\n",
       "</div>"
      ],
      "text/plain": [
       "                                    Range (FT1)  City Range (FT1)\n",
       "Year Make       Model                                            \n",
       "1984 Alfa Romeo Spider Veloce 2000          0.0               0.0\n",
       "                Spider Veloce 2000          0.0               0.0"
      ]
     },
     "execution_count": 7,
     "metadata": {},
     "output_type": "execute_result"
    }
   ],
   "source": [
    "\"\"\"2. Za chwilę wykonasz pewne przekształcenia na obiekcie fuel. Po każdej zmianie wyświetl rekord, który:\n",
    "- w indeksie w Year ma wartość 1984\n",
    "- w Make ma 'Alfa Romeo'\n",
    "- w Model ma 'Spider Veloce 2000' Teraz wyświetl właśnie te wiersze, które spełniają w/w warunki\"\"\"\n",
    "\n",
    "fuel.loc[1984,'Alfa Romeo','Spider Veloce 2000']"
   ]
  },
  {
   "cell_type": "code",
   "execution_count": 5,
   "metadata": {},
   "outputs": [
    {
     "data": {
      "text/html": [
       "<div>\n",
       "<style scoped>\n",
       "    .dataframe tbody tr th:only-of-type {\n",
       "        vertical-align: middle;\n",
       "    }\n",
       "\n",
       "    .dataframe tbody tr th {\n",
       "        vertical-align: top;\n",
       "    }\n",
       "\n",
       "    .dataframe thead th {\n",
       "        text-align: right;\n",
       "    }\n",
       "</style>\n",
       "<table border=\"1\" class=\"dataframe\">\n",
       "  <thead>\n",
       "    <tr style=\"text-align: right;\">\n",
       "      <th></th>\n",
       "      <th>Range (FT1)</th>\n",
       "      <th>City Range (FT1)</th>\n",
       "    </tr>\n",
       "    <tr>\n",
       "      <th>Model</th>\n",
       "      <th></th>\n",
       "      <th></th>\n",
       "    </tr>\n",
       "  </thead>\n",
       "  <tbody>\n",
       "    <tr>\n",
       "      <th>GT V6 2.5</th>\n",
       "      <td>0.0</td>\n",
       "      <td>0.0</td>\n",
       "    </tr>\n",
       "    <tr>\n",
       "      <th>GT V6 2.5</th>\n",
       "      <td>0.0</td>\n",
       "      <td>0.0</td>\n",
       "    </tr>\n",
       "    <tr>\n",
       "      <th>Spider Veloce 2000</th>\n",
       "      <td>0.0</td>\n",
       "      <td>0.0</td>\n",
       "    </tr>\n",
       "    <tr>\n",
       "      <th>Spider Veloce 2000</th>\n",
       "      <td>0.0</td>\n",
       "      <td>0.0</td>\n",
       "    </tr>\n",
       "  </tbody>\n",
       "</table>\n",
       "</div>"
      ],
      "text/plain": [
       "                    Range (FT1)  City Range (FT1)\n",
       "Model                                            \n",
       "GT V6 2.5                   0.0               0.0\n",
       "GT V6 2.5                   0.0               0.0\n",
       "Spider Veloce 2000          0.0               0.0\n",
       "Spider Veloce 2000          0.0               0.0"
      ]
     },
     "execution_count": 5,
     "metadata": {},
     "output_type": "execute_result"
    }
   ],
   "source": [
    "#- w Make ma 'Alfa Romeo'\n",
    "fuel.loc[1984,'Alfa Romeo']"
   ]
  },
  {
   "cell_type": "code",
   "execution_count": 8,
   "metadata": {},
   "outputs": [],
   "source": [
    "\"\"\"Zamień zerowy segment indeksu z pierwszym. Wynik zapisz ponownie w zmiennej fuel. Dane posortuj wg indeksu\"\"\"\n",
    "\n",
    "fuel = fuel.swaplevel(i=0,j=1).sort_index()"
   ]
  },
  {
   "cell_type": "code",
   "execution_count": 9,
   "metadata": {},
   "outputs": [
    {
     "data": {
      "text/html": [
       "<div>\n",
       "<style scoped>\n",
       "    .dataframe tbody tr th:only-of-type {\n",
       "        vertical-align: middle;\n",
       "    }\n",
       "\n",
       "    .dataframe tbody tr th {\n",
       "        vertical-align: top;\n",
       "    }\n",
       "\n",
       "    .dataframe thead th {\n",
       "        text-align: right;\n",
       "    }\n",
       "</style>\n",
       "<table border=\"1\" class=\"dataframe\">\n",
       "  <thead>\n",
       "    <tr style=\"text-align: right;\">\n",
       "      <th></th>\n",
       "      <th></th>\n",
       "      <th></th>\n",
       "      <th>Range (FT1)</th>\n",
       "      <th>City Range (FT1)</th>\n",
       "    </tr>\n",
       "    <tr>\n",
       "      <th>Make</th>\n",
       "      <th>Year</th>\n",
       "      <th>Model</th>\n",
       "      <th></th>\n",
       "      <th></th>\n",
       "    </tr>\n",
       "  </thead>\n",
       "  <tbody>\n",
       "    <tr>\n",
       "      <th rowspan=\"2\" valign=\"top\">Alfa Romeo</th>\n",
       "      <th rowspan=\"2\" valign=\"top\">1984</th>\n",
       "      <th>Spider Veloce 2000</th>\n",
       "      <td>0.0</td>\n",
       "      <td>0.0</td>\n",
       "    </tr>\n",
       "    <tr>\n",
       "      <th>Spider Veloce 2000</th>\n",
       "      <td>0.0</td>\n",
       "      <td>0.0</td>\n",
       "    </tr>\n",
       "  </tbody>\n",
       "</table>\n",
       "</div>"
      ],
      "text/plain": [
       "                                    Range (FT1)  City Range (FT1)\n",
       "Make       Year Model                                            \n",
       "Alfa Romeo 1984 Spider Veloce 2000          0.0               0.0\n",
       "                Spider Veloce 2000          0.0               0.0"
      ]
     },
     "execution_count": 9,
     "metadata": {},
     "output_type": "execute_result"
    }
   ],
   "source": [
    "\"\"\"4. Wyświetl wybrany wiersz\"\"\"\n",
    "\n",
    "fuel.loc[('Alfa Romeo',1984,'Spider Veloce 2000')]"
   ]
  },
  {
   "cell_type": "code",
   "execution_count": 10,
   "metadata": {},
   "outputs": [],
   "source": [
    "\"\"\"5. Zamień pierwszy segment indeksu z drugim. Wynik zapisz ponownie w zmiennej fuel. Dane posortuj wg\n",
    "indeksu\"\"\"\n",
    "\n",
    "fuel = fuel.swaplevel(i=1,j=2).sort_index()"
   ]
  },
  {
   "cell_type": "code",
   "execution_count": 11,
   "metadata": {},
   "outputs": [
    {
     "data": {
      "text/html": [
       "<div>\n",
       "<style scoped>\n",
       "    .dataframe tbody tr th:only-of-type {\n",
       "        vertical-align: middle;\n",
       "    }\n",
       "\n",
       "    .dataframe tbody tr th {\n",
       "        vertical-align: top;\n",
       "    }\n",
       "\n",
       "    .dataframe thead th {\n",
       "        text-align: right;\n",
       "    }\n",
       "</style>\n",
       "<table border=\"1\" class=\"dataframe\">\n",
       "  <thead>\n",
       "    <tr style=\"text-align: right;\">\n",
       "      <th></th>\n",
       "      <th></th>\n",
       "      <th></th>\n",
       "      <th>Range (FT1)</th>\n",
       "      <th>City Range (FT1)</th>\n",
       "    </tr>\n",
       "    <tr>\n",
       "      <th>Make</th>\n",
       "      <th>Model</th>\n",
       "      <th>Year</th>\n",
       "      <th></th>\n",
       "      <th></th>\n",
       "    </tr>\n",
       "  </thead>\n",
       "  <tbody>\n",
       "    <tr>\n",
       "      <th rowspan=\"2\" valign=\"top\">Alfa Romeo</th>\n",
       "      <th rowspan=\"2\" valign=\"top\">Spider Veloce 2000</th>\n",
       "      <th>1984</th>\n",
       "      <td>0.0</td>\n",
       "      <td>0.0</td>\n",
       "    </tr>\n",
       "    <tr>\n",
       "      <th>1984</th>\n",
       "      <td>0.0</td>\n",
       "      <td>0.0</td>\n",
       "    </tr>\n",
       "  </tbody>\n",
       "</table>\n",
       "</div>"
      ],
      "text/plain": [
       "                                    Range (FT1)  City Range (FT1)\n",
       "Make       Model              Year                               \n",
       "Alfa Romeo Spider Veloce 2000 1984          0.0               0.0\n",
       "                              1984          0.0               0.0"
      ]
     },
     "execution_count": 11,
     "metadata": {},
     "output_type": "execute_result"
    }
   ],
   "source": [
    "\"\"\"6. Wyświetl wybrany wiersz\"\"\"\n",
    "\n",
    "fuel.loc[('Alfa Romeo','Spider Veloce 2000',1984)]"
   ]
  },
  {
   "cell_type": "code",
   "execution_count": null,
   "metadata": {},
   "outputs": [],
   "source": []
  }
 ],
 "metadata": {
  "kernelspec": {
   "display_name": "Python 3",
   "language": "python",
   "name": "python3"
  },
  "language_info": {
   "codemirror_mode": {
    "name": "ipython",
    "version": 3
   },
   "file_extension": ".py",
   "mimetype": "text/x-python",
   "name": "python",
   "nbconvert_exporter": "python",
   "pygments_lexer": "ipython3",
   "version": "3.7.6"
  }
 },
 "nbformat": 4,
 "nbformat_minor": 4
}
