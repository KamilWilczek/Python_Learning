{
 "cells": [
  {
   "cell_type": "code",
   "execution_count": 1,
   "metadata": {},
   "outputs": [
    {
     "data": {
      "text/plain": [
       "Symbol\n",
       "AF                                          Afghanistan\n",
       "AL                                              Albania\n",
       "DZ                                              Algeria\n",
       "AD                                              Andorra\n",
       "AO                                               Angola\n",
       "                            ...                        \n",
       "ZM                                               Zambia\n",
       "QR    Stores and provisions within the framework of ...\n",
       "CV                                           Cape Verde\n",
       "ZW                                             Zimbabwe\n",
       "AE                                 United Arab Emirates\n",
       "Name: Name, Length: 245, dtype: object"
      ]
     },
     "execution_count": 1,
     "metadata": {},
     "output_type": "execute_result"
    }
   ],
   "source": [
    "import pandas as pd\n",
    "countries = pd.read_csv('/Users/kamilw/Desktop/Moje/PythonLearing/Pandas_Udemy/course-files/countries.csv',usecols=['Name','Symbol'],index_col='Symbol',squeeze=True)\n",
    "countries"
   ]
  },
  {
   "cell_type": "code",
   "execution_count": 2,
   "metadata": {},
   "outputs": [],
   "source": [
    "countries.dropna(inplace=True)"
   ]
  },
  {
   "cell_type": "code",
   "execution_count": 3,
   "metadata": {},
   "outputs": [
    {
     "data": {
      "text/plain": [
       "Symbol\n",
       "AF            Afghanistan\n",
       "AL                Albania\n",
       "DZ                Algeria\n",
       "AD                Andorra\n",
       "AO                 Angola\n",
       "AI               Anguilla\n",
       "AQ             Antarctica\n",
       "AG    Antigua and Barbuda\n",
       "SA           Saudi Arabia\n",
       "AR              Argentina\n",
       "AM                Armenia\n",
       "AW                  Aruba\n",
       "AU              Australia\n",
       "AT                Austria\n",
       "AZ             Azerbaijan\n",
       "BS                Bahamas\n",
       "BH                Bahrain\n",
       "BD             Bangladesh\n",
       "BB               Barbados\n",
       "BE                Belgium\n",
       "Name: Name, dtype: object"
      ]
     },
     "execution_count": 3,
     "metadata": {},
     "output_type": "execute_result"
    }
   ],
   "source": [
    "countries.head(20)"
   ]
  },
  {
   "cell_type": "code",
   "execution_count": 4,
   "metadata": {},
   "outputs": [],
   "source": [
    "toFind = ['BB','AA','BS']"
   ]
  },
  {
   "cell_type": "code",
   "execution_count": 5,
   "metadata": {},
   "outputs": [
    {
     "name": "stderr",
     "output_type": "stream",
     "text": [
      "/Users/kamilw/opt/anaconda3/lib/python3.7/site-packages/ipykernel_launcher.py:1: FutureWarning: \n",
      "Passing list-likes to .loc or [] with any missing label will raise\n",
      "KeyError in the future, you can use .reindex() as an alternative.\n",
      "\n",
      "See the documentation here:\n",
      "https://pandas.pydata.org/pandas-docs/stable/user_guide/indexing.html#deprecate-loc-reindex-listlike\n",
      "  \"\"\"Entry point for launching an IPython kernel.\n"
     ]
    },
    {
     "data": {
      "text/plain": [
       "Symbol\n",
       "BB    Barbados\n",
       "AA         NaN\n",
       "BS     Bahamas\n",
       "Name: Name, dtype: object"
      ]
     },
     "execution_count": 5,
     "metadata": {},
     "output_type": "execute_result"
    }
   ],
   "source": [
    "countries.loc[toFind]"
   ]
  },
  {
   "cell_type": "code",
   "execution_count": 6,
   "metadata": {},
   "outputs": [
    {
     "data": {
      "text/plain": [
       "Symbol\n",
       "BB    Barbados\n",
       "AA         NaN\n",
       "BS     Bahamas\n",
       "Name: Name, dtype: object"
      ]
     },
     "execution_count": 6,
     "metadata": {},
     "output_type": "execute_result"
    }
   ],
   "source": [
    "countries.reindex(toFind)"
   ]
  },
  {
   "cell_type": "code",
   "execution_count": 9,
   "metadata": {},
   "outputs": [
    {
     "data": {
      "text/plain": [
       "Index(['BS', 'BB'], dtype='object')"
      ]
     },
     "execution_count": 9,
     "metadata": {},
     "output_type": "execute_result"
    }
   ],
   "source": [
    "countries.index.intersection(toFind)"
   ]
  },
  {
   "cell_type": "code",
   "execution_count": 11,
   "metadata": {},
   "outputs": [
    {
     "data": {
      "text/plain": [
       "BS     Bahamas\n",
       "BB    Barbados\n",
       "Name: Name, dtype: object"
      ]
     },
     "execution_count": 11,
     "metadata": {},
     "output_type": "execute_result"
    }
   ],
   "source": [
    "countries.loc[countries.index.intersection(toFind)]"
   ]
  },
  {
   "cell_type": "code",
   "execution_count": null,
   "metadata": {},
   "outputs": [],
   "source": []
  }
 ],
 "metadata": {
  "kernelspec": {
   "display_name": "Python 3",
   "language": "python",
   "name": "python3"
  },
  "language_info": {
   "codemirror_mode": {
    "name": "ipython",
    "version": 3
   },
   "file_extension": ".py",
   "mimetype": "text/x-python",
   "name": "python",
   "nbconvert_exporter": "python",
   "pygments_lexer": "ipython3",
   "version": "3.7.4"
  }
 },
 "nbformat": 4,
 "nbformat_minor": 2
}
